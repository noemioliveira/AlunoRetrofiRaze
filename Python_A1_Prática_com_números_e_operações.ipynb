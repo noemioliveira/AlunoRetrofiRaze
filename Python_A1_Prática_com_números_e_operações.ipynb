{
  "nbformat": 4,
  "nbformat_minor": 0,
  "metadata": {
    "colab": {
      "name": "Python A1 Prática com números e operações.ipynb",
      "provenance": [],
      "authorship_tag": "ABX9TyMsabYNFzn3vQmoFLqqYawl",
      "include_colab_link": true
    },
    "kernelspec": {
      "name": "python3",
      "display_name": "Python 3"
    }
  },
  "cells": [
    {
      "cell_type": "markdown",
      "metadata": {
        "id": "view-in-github",
        "colab_type": "text"
      },
      "source": [
        "<a href=\"https://colab.research.google.com/github/LuanComputacao/AlunoRetrofiRaze/blob/master/Python_A1_Pr%C3%A1tica_com_n%C3%BAmeros_e_opera%C3%A7%C3%B5es.ipynb\" target=\"_parent\"><img src=\"https://colab.research.google.com/assets/colab-badge.svg\" alt=\"Open In Colab\"/></a>"
      ]
    },
    {
      "cell_type": "markdown",
      "metadata": {
        "id": "dUihVkDOfk69",
        "colab_type": "text"
      },
      "source": [
        "# Prática com números e operações\n",
        "\n",
        "Atividade 1\n",
        "\n",
        "Dada a lista de números abaixo, execute, no REPL, as operações listadas. Combine os tipos diferentes de dados sugeridos para a realização das operações.\n",
        "\n",
        "## Tipos\n",
        "* **Números**: 147; 1.47; 3+7j; -1; 0\n",
        "* **Booleano**: True; False\n",
        "* **String**: \"1\"; \"-3\"\n",
        "* **Listas**: [1,2,3,4] ; ['a', '1', ' ', True]\n",
        "\n",
        "## Operações\n",
        "* +\n",
        "* -\n",
        "* *\n",
        "* /\n",
        "* //\n",
        "* \\**\n",
        "* (x+y)*100"
      ]
    },
    {
      "cell_type": "code",
      "metadata": {
        "id": "bjY0cnT1gKFY",
        "colab_type": "code",
        "colab": {
          "base_uri": "https://localhost:8080/",
          "height": 35
        },
        "outputId": "4e80f141-8962-4272-cc9e-e8aa60edcad0"
      },
      "source": [
        "147 + True"
      ],
      "execution_count": null,
      "outputs": [
        {
          "output_type": "execute_result",
          "data": {
            "text/plain": [
              "148"
            ]
          },
          "metadata": {
            "tags": []
          },
          "execution_count": 1
        }
      ]
    },
    {
      "cell_type": "code",
      "metadata": {
        "id": "DQ9S7HfHgN4G",
        "colab_type": "code",
        "colab": {
          "base_uri": "https://localhost:8080/",
          "height": 35
        },
        "outputId": "2849f7cd-ecb7-4045-9b36-0abea3209f28"
      },
      "source": [
        "147 - False"
      ],
      "execution_count": null,
      "outputs": [
        {
          "output_type": "execute_result",
          "data": {
            "text/plain": [
              "147"
            ]
          },
          "metadata": {
            "tags": []
          },
          "execution_count": 3
        }
      ]
    },
    {
      "cell_type": "code",
      "metadata": {
        "id": "gWsy2m6CgU4L",
        "colab_type": "code",
        "colab": {}
      },
      "source": [
        ""
      ],
      "execution_count": null,
      "outputs": []
    }
  ]
}